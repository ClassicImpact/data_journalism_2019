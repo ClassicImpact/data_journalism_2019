{
 "cells": [
  {
   "cell_type": "code",
   "execution_count": 75,
   "metadata": {},
   "outputs": [
    {
     "data": {
      "image/png": "[encoded data removed]",
      "text/plain": [
       "<Figure size 432x288 with 1 Axes>"
      ]
     },
     "metadata": {
      "needs_background": "light"
     },
     "output_type": "display_data"
    }
   ],
   "source": [
    "import string\n",
    "import pandas as pd\n",
    "import math\n",
    "%matplotlib inline\n",
    "from matplotlib import pyplot as plt\n",
    "\n",
    "with open('category1_merge.txt', 'r', encoding='UTF8') as f:\n",
    "    lines1 = f.read().splitlines()\n",
    "with open('category2_merge.txt', 'r', encoding='UTF8') as f:\n",
    "    lines2 = f.read().splitlines()\n",
    "with open('category3_merge.txt', 'r', encoding='UTF8') as f:\n",
    "    lines3 = f.read().splitlines()\n",
    "with open('category4_merge.txt', 'r', encoding='UTF8') as f:\n",
    "    lines4 = f.read().splitlines()\n",
    "\n",
    "\n",
    "\n",
    "\n",
    "def Average_words_used(text_list):\n",
    "    wordcount_list = []\n",
    "\n",
    "    for line in text_list:\n",
    "        a= len([i for i in line if i != ' '])\n",
    "        wordcount_list.append(a)\n",
    "\n",
    "    sum = 0\n",
    "    for counts in wordcount_list:\n",
    "        sum += counts\n",
    "\n",
    "    word_average = sum / len(wordcount_list)\n",
    "    return word_average\n",
    "\n",
    "\n",
    "Category1 = round(Average_words_used(lines1))\n",
    "Category2 = round(Average_words_used(lines2))\n",
    "Category3 = round(Average_words_used(lines3))\n",
    "Category4 = round(Average_words_used(lines4))\n",
    "\n",
    "x= [\"Haul Video\", \"Pet Video\", \"Eating Show\", \"Daily Vlog\"]\n",
    "y = [Category1, Category2, Category3, Category4]\n",
    "\n",
    "\n",
    "for i, v in enumerate(y):\n",
    "    plt.text(i, v+3, str(v), color='blue',va = 'center', ha = 'center',fontweight='bold')\n",
    "    plt.bar(x, y, width=0.5, facecolor = '#9999ff', edgecolor='white')\n",
    "plt.ylim(0,50)\n",
    "plt.xlabel(\"Video Category\")\n",
    "plt.ylabel(\"Average words per comments\")\n",
    "plt.title(\"Words per comments\")\n",
    "#plt.show()\n",
    "\n",
    "plt.savefig(\"words_per_comments.jpg\")\n"
   ]
  },
  {
   "cell_type": "code",
   "execution_count": 3,
   "metadata": {},
   "outputs": [
    {
     "name": "stdout",
     "output_type": "stream",
     "text": [
      "14\n"
     ]
    }
   ],
   "source": []
  },
  {
   "cell_type": "code",
   "execution_count": null,
   "metadata": {},
   "outputs": [],
   "source": [
    "\n"
   ]
  }
 ],
 "metadata": {
  "kernelspec": {
   "display_name": "Python 3",
   "language": "python",
   "name": "python3"
  },
  "language_info": {
   "codemirror_mode": {
    "name": "ipython",
    "version": 3
   },
   "file_extension": ".py",
   "mimetype": "text/x-python",
   "name": "python",
   "nbconvert_exporter": "python",
   "pygments_lexer": "ipython3",
   "version": "3.7.4"
  }
 },
 "nbformat": 4,
 "nbformat_minor": 2
}
